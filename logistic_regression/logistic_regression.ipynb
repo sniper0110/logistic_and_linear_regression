{
 "cells": [
  {
   "cell_type": "code",
   "execution_count": 3,
   "metadata": {
    "collapsed": true
   },
   "outputs": [],
   "source": [
    "import tensorflow as tf\n",
    "import numpy as np\n",
    "import matplotlib.pyplot as plt\n",
    "from sklearn.preprocessing import normalize\n",
    "from sklearn.preprocessing import OneHotEncoder\n",
    "import numpy as np"
   ]
  },
  {
   "cell_type": "code",
   "execution_count": 6,
   "metadata": {
    "collapsed": true
   },
   "outputs": [],
   "source": [
    "## Helpful functions\n",
    "def one_hot_encode(a, nb_labels):\n",
    "    a = a.astype(int)\n",
    "    b = np.eye(nb_labels)[a]\n",
    "    return b\n",
    "    "
   ]
  },
  {
   "cell_type": "code",
   "execution_count": 30,
   "metadata": {},
   "outputs": [
    {
     "name": "stdout",
     "output_type": "stream",
     "text": [
      "Done loading data!\n"
     ]
    }
   ],
   "source": [
    "train_data = np.loadtxt('ex2data1.txt', delimiter=',')\n",
    "test_data = np.loadtxt('ex2data2.txt', delimiter=',')\n",
    "\n",
    "x_train = train_data[:,0:2]\n",
    "y_train = train_data[:,2]\n",
    "\n",
    "x_test = test_data[0:100,0:2]\n",
    "y_test = test_data[0:100,2]\n",
    "\n",
    "print('Done loading data!')"
   ]
  },
  {
   "cell_type": "code",
   "execution_count": 31,
   "metadata": {},
   "outputs": [
    {
     "name": "stdout",
     "output_type": "stream",
     "text": [
      "(100, 2) (100,)\n"
     ]
    }
   ],
   "source": [
    "print(x_test.shape, y_test.shape)\n",
    "#print(new_test_y.shape)"
   ]
  },
  {
   "cell_type": "code",
   "execution_count": 17,
   "metadata": {},
   "outputs": [
    {
     "data": {
      "image/png": "[encoded data removed]",
      "text/plain": [
       "<matplotlib.figure.Figure at 0x927d2b0>"
      ]
     },
     "metadata": {},
     "output_type": "display_data"
    }
   ],
   "source": [
    "## Counting students in each category (admitted/not admitted)\n",
    "pos_count=0\n",
    "neg_count=0\n",
    "\n",
    "for i in range(y_train.shape[0]):\n",
    "    if(y_train[i] == 0):\n",
    "        pos_count = pos_count + 1 \n",
    "    else:\n",
    "        neg_count = neg_count + 1\n",
    "\n",
    "pos_vals = np.zeros((pos_count, 2))\n",
    "neg_vals = np.zeros((neg_count, 2))      \n",
    "\n",
    "pos_count = 0\n",
    "neg_count = 0\n",
    "\n",
    "for i in range(y_train.shape[0]):\n",
    "    if(y_train[i] == 0):\n",
    "        pos_vals[pos_count,:] = x_train[i,:]\n",
    "        pos_count = pos_count + 1\n",
    "    elif(y_train[i] == 1):\n",
    "        neg_vals[neg_count,:] = x_train[i,:]\n",
    "        neg_count = neg_count + 1\n",
    "        \n",
    "## Plotting data\n",
    "plt.plot(pos_vals[:,0], pos_vals[:,1], 'o', label='Not admitted')\n",
    "plt.plot(neg_vals[:,0], neg_vals[:,1], '+', label='Admitted')\n",
    "plt.xlabel('exam 1')\n",
    "plt.ylabel('exam 2')\n",
    "plt.title('Distribution of students')\n",
    "plt.legend()\n",
    "plt.show()\n"
   ]
  },
  {
   "cell_type": "code",
   "execution_count": 33,
   "metadata": {
    "scrolled": false
   },
   "outputs": [
    {
     "name": "stdout",
     "output_type": "stream",
     "text": [
      "Loss :  8.61222\n",
      "Loss :  0.212106\n",
      "Loss :  0.209724\n",
      "Loss :  0.204065\n",
      "Loss :  0.209993\n",
      "Train accuracy of the model is :  0.89\n",
      "Test accuracy of the model is :  0.42\n"
     ]
    }
   ],
   "source": [
    "## Possible alternative way ##################################################\n",
    "'''\n",
    "#W = tf.Variable(tf.zeros([3,1]))\n",
    "seperator = tf.matmul(x, W) + b\n",
    "model = tf.sigmoid(seperator)\n",
    "cross_entropy = new_train_y * tf.log(model) + (1 - new_train_y)*tf.log(1 - tf.log(model))\n",
    "cost = tf.reduce_mean(-tf.reduce_sum(cross_entropy))\n",
    "'''\n",
    "##############################################################################\n",
    "\n",
    "steps = 5000\n",
    "new_train_y = one_hot_encode(y_train, 2)\n",
    "new_test_y = one_hot_encode(y_test, 2)\n",
    "\n",
    "x = tf.placeholder(tf.float32, [100, 2]) # 100 examples x 2 features\n",
    "#x_test_holder = tf.placeholder(tf.float32, [118, 2])\n",
    "\n",
    "y_ = tf.placeholder(tf.float32, [100,2])\n",
    "#y_test_holder = tf.placeholder(tf.float32, [118, 2])\n",
    "\n",
    "W = tf.Variable(tf.zeros([2, 2])) # 2 features x 2 classes\n",
    "b = tf.Variable(tf.zeros([1,2])) # one row x 2 classes\n",
    "\n",
    "seperator = tf.matmul(x, W) + b\n",
    "cross_entropy = tf.nn.softmax_cross_entropy_with_logits(logits=seperator, labels=new_train_y)\n",
    "cost = tf.reduce_mean((cross_entropy))\n",
    "\n",
    "optimizer = tf.train.AdamOptimizer(0.1)\n",
    "train = optimizer.minimize(cost)\n",
    "\n",
    "init = tf.global_variables_initializer()\n",
    "\n",
    "# Evaluation\n",
    "softmax_model = tf.nn.softmax(tf.matmul(x, W) + b)\n",
    "predictions = tf.equal(tf.argmax(softmax_model, 1), tf.argmax(y_,1)) # predicted x true\n",
    "accuracy = tf.reduce_mean(tf.cast(predictions, tf.float32))\n",
    "\n",
    "with tf.Session() as sess:\n",
    "    sess.run(init)\n",
    "    for step in range(steps):\n",
    "        feed_dict = {x : np.array(x_train, dtype=np.float32) }\n",
    "        sess.run(train, feed_dict=feed_dict)\n",
    "        if(step%1000 == 0):\n",
    "            print('Loss : ', sess.run(cost, feed_dict=feed_dict))\n",
    "    \n",
    "    weights = sess.run(W)\n",
    "    biases = sess.run(b)\n",
    "    train_acc = sess.run(accuracy, feed_dict={x: x_train, y_: new_train_y})\n",
    "    test_acc = sess.run(accuracy, feed_dict={x: x_test, y_:new_test_y})\n",
    "\n",
    "    print('Train accuracy of the model is : ', train_acc)\n",
    "    print('Test accuracy of the model is : ', test_acc)\n",
    "\n",
    "    sess.close() \n"
   ]
  },
  {
   "cell_type": "code",
   "execution_count": 16,
   "metadata": {},
   "outputs": [
    {
     "data": {
      "image/png": "[encoded data removed]",
      "text/plain": [
       "<matplotlib.figure.Figure at 0x8c8b5c0>"
      ]
     },
     "metadata": {},
     "output_type": "display_data"
    }
   ],
   "source": [
    "## Plotting data\n",
    "w1 = -0.07635306\n",
    "w2 = -0.07362258\n",
    "b1 = 9.2308569\n",
    "x1 = np.array([0, 100])\n",
    "x2 = (-b1 - w2*x1) / w1\n",
    "\n",
    "pt1 = [x1[0], x2[0]]\n",
    "pt2 = [x1[1], x2[1]]\n",
    "\n",
    "plt.plot(pos_vals[:,0], pos_vals[:,1], 'o', label='Not admitted')\n",
    "plt.plot(neg_vals[:,0], neg_vals[:,1], '+', label='Admitted')\n",
    "plt.plot(pt1, pt2, color='k', linestyle='-', linewidth=1)\n",
    "plt.xlabel('exam 1')\n",
    "plt.ylabel('exam 2')\n",
    "plt.title('Decision boundary')\n",
    "plt.legend()\n",
    "plt.show()\n"
   ]
  },
  {
   "cell_type": "code",
   "execution_count": null,
   "metadata": {
    "collapsed": true
   },
   "outputs": [],
   "source": []
  }
 ],
 "metadata": {
  "kernelspec": {
   "display_name": "Python 3",
   "language": "python",
   "name": "python3"
  },
  "language_info": {
   "codemirror_mode": {
    "name": "ipython",
    "version": 3
   },
   "file_extension": ".py",
   "mimetype": "text/x-python",
   "name": "python",
   "nbconvert_exporter": "python",
   "pygments_lexer": "ipython3",
   "version": "3.6.1"
  }
 },
 "nbformat": 4,
 "nbformat_minor": 2
}

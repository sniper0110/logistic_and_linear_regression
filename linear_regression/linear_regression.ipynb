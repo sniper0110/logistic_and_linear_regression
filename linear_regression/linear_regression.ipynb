{
 "cells": [
  {
   "cell_type": "code",
   "execution_count": 159,
   "metadata": {
    "collapsed": true
   },
   "outputs": [],
   "source": [
    "import tensorflow as tf\n",
    "import numpy as np"
   ]
  },
  {
   "cell_type": "code",
   "execution_count": 162,
   "metadata": {},
   "outputs": [
    {
     "data": {
      "image/png": "[encoded data removed]",
      "text/plain": [
       "<matplotlib.figure.Figure at 0x1c02cbe0>"
      ]
     },
     "metadata": {},
     "output_type": "display_data"
    }
   ],
   "source": [
    "import numpy as np\n",
    "import matplotlib.pyplot as plt\n",
    "import tensorflow as tf\n",
    "number_of_points = 10\n",
    "\n",
    "train_data = np.loadtxt('hw1training.txt')\n",
    "test_data = np.loadtxt('hw1test.txt')\n",
    "x_point = np.transpose(np.array([train_data[:,0]]))\n",
    "y_point = np.transpose(np.array([train_data[:,1]]))\n",
    "\n",
    "'''\n",
    "a = 0.22\n",
    "b = 0.78\n",
    "\n",
    "for i in range(number_of_points):\n",
    "    x = np.random.normal(0.0,0.5)\n",
    "    y = a*x + b +np.random.normal(0.0,0.1)\n",
    "    x_point.append([x])\n",
    "    y_point.append([y])\n",
    "'''\n",
    "plt.plot(x_point,y_point, 'o', label='Input Data')\n",
    "plt.legend()\n",
    "plt.show()"
   ]
  },
  {
   "cell_type": "code",
   "execution_count": 163,
   "metadata": {
    "scrolled": false
   },
   "outputs": [
    {
     "name": "stdout",
     "output_type": "stream",
     "text": [
      "At step  0  cost function is :  0.722081\n"
     ]
    },
    {
     "data": {
      "image/png": "[encoded data removed]",
      "text/plain": [
       "<matplotlib.figure.Figure at 0x2f511b70>"
      ]
     },
     "metadata": {},
     "output_type": "display_data"
    }
   ],
   "source": [
    "m_input = tf.placeholder(tf.float32 ,shape=[number_of_points, 1], name='input')\n",
    "\n",
    "#with tf.name_scope('Variables'):\n",
    "A3 = tf.Variable(tf.random_uniform([1], -1.0, 1.0), name='coef3')\n",
    "A2 = tf.Variable(tf.random_uniform([1], -1.0, 1.0), name='coef2')\n",
    "A1 = tf.Variable(tf.random_uniform([1], -1.0, 1.0), name='coef1')\n",
    "A0 = tf.Variable(tf.random_uniform([1], -1.0, 1.0), name='coef0')\n",
    "b = tf.Variable(tf.zeros([1]), name='bias')\n",
    "\n",
    "#def polynomial_model(degree=1):\n",
    "    \n",
    "    \n",
    "#with tf.name_scope('Model'):\n",
    "model = A2 * x_point**3 + A1 * x_point**2 + A0 * x_point + b #A3 * x_point**4 + \n",
    "\n",
    "\n",
    "#with tf.name_scope('Metrics'):\n",
    "cost_function = tf.reduce_mean(tf.square(model - y_point)) \n",
    "optimizer = tf.train.GradientDescentOptimizer(0.4) #Bad results\n",
    "#optimizer = tf.train.AdamOptimizer(0.4) #Good results\n",
    "#with tf.name_scope('Training'):\n",
    "train = optimizer.minimize(cost_function)\n",
    "\n",
    "#####\n",
    "x_mat = np.hstack((x_point**3, x_point**2, x_point, np.ones((10,1))))\n",
    "sol,_,_,_ = np.linalg.lstsq(x_mat, y_point)\n",
    "closed_form_sol = np.matmul(x_mat, sol)\n",
    "#####\n",
    "\n",
    "steps = 1000 \n",
    "\n",
    "with tf.get_default_graph().as_default():\n",
    "    init = tf.global_variables_initializer()\n",
    "    with tf.Session() as sess:\n",
    "        sess.run(init)\n",
    "        for i in range(steps):\n",
    "            feed_dict = {m_input: np.array(x_point, dtype=np.float32)}\n",
    "            sess.run(train, feed_dict=feed_dict)\n",
    "            if(i%1000 == 0):\n",
    "                print('At step ', i, ' cost function is : ', sess.run(cost_function))\n",
    "        writer = tf.summary.FileWriter('./linear_regression', sess.graph)\n",
    "        writer.close()\n",
    "        # Plotting results\n",
    "        plt.plot(x_point,y_point,'o' ,label='data')\n",
    "        plt.plot(x_point, sess.run(model), label='optimization')\n",
    "        plt.plot(x_point, closed_form_sol, label='normal equation')\n",
    "        plt.legend()\n",
    "        plt.show()\n",
    "        "
   ]
  },
  {
   "cell_type": "markdown",
   "metadata": {},
   "source": [
    "### Another Linear Regression Model"
   ]
  },
  {
   "cell_type": "code",
   "execution_count": 44,
   "metadata": {},
   "outputs": [
    {
     "data": {
      "text/plain": [
       "(10, 1)"
      ]
     },
     "execution_count": 44,
     "metadata": {},
     "output_type": "execute_result"
    }
   ],
   "source": [
    "train_data = np.loadtxt('hw1training.txt')\n",
    "test_data = np.loadtxt('hw1test.txt')\n",
    "x_try = np.transpose(np.array([train_data[:,0]]))\n",
    "x_try.shape"
   ]
  },
  {
   "cell_type": "code",
   "execution_count": null,
   "metadata": {
    "collapsed": true
   },
   "outputs": [],
   "source": []
  },
  {
   "cell_type": "code",
   "execution_count": 123,
   "metadata": {},
   "outputs": [
    {
     "name": "stdout",
     "output_type": "stream",
     "text": [
      "<class 'numpy.ndarray'>\n"
     ]
    }
   ],
   "source": [
    "X = np.zeros((10,4))\n",
    "\n",
    "x_mat = np.hstack((x_point**3, x_point**2, x_point, np.ones((10,1))))\n",
    "sol = np.transpose(np.matrix([np.linalg.lstsq(x_mat, y_point)]))\n",
    "closed_form_sol = np.array([x_mat * sol])\n",
    "print(type(closed_form_sol))"
   ]
  },
  {
   "cell_type": "code",
   "execution_count": 142,
   "metadata": {},
   "outputs": [
    {
     "name": "stdout",
     "output_type": "stream",
     "text": [
      "[[ 26.63157154]\n",
      " [-41.22683776]\n",
      " [ 15.15451613]\n",
      " [ -0.43970048]]\n",
      "(10, 4)\n",
      "26.6315715409\n"
     ]
    }
   ],
   "source": [
    "x_mat = np.hstack((x_point**3, x_point**2, x_point, np.ones((10,1))))\n",
    "sol,_,_,_ = np.linalg.lstsq(x_mat, y_point)\n",
    "#closed_form_sol = x_mat * sol\n",
    "\n",
    "print(sol)\n",
    "print(x_mat.shape)\n",
    "print(sol[0,0])"
   ]
  },
  {
   "cell_type": "code",
   "execution_count": 146,
   "metadata": {},
   "outputs": [
    {
     "data": {
      "text/plain": [
       "array([[ 0.17128186],\n",
       "       [ 0.7645448 ],\n",
       "       [ 1.05853841],\n",
       "       [ 1.0574037 ],\n",
       "       [ 0.99574141],\n",
       "       [ 0.51327768],\n",
       "       [-0.14777138],\n",
       "       [-0.74211316],\n",
       "       [-0.98039439],\n",
       "       [-0.7851266 ]])"
      ]
     },
     "execution_count": 146,
     "metadata": {},
     "output_type": "execute_result"
    }
   ],
   "source": [
    "np.matmul(x_mat, sol)"
   ]
  },
  {
   "cell_type": "code",
   "execution_count": null,
   "metadata": {
    "collapsed": true
   },
   "outputs": [],
   "source": []
  },
  {
   "cell_type": "code",
   "execution_count": null,
   "metadata": {
    "collapsed": true
   },
   "outputs": [],
   "source": []
  }
 ],
 "metadata": {
  "kernelspec": {
   "display_name": "Python 3",
   "language": "python",
   "name": "python3"
  },
  "language_info": {
   "codemirror_mode": {
    "name": "ipython",
    "version": 3
   },
   "file_extension": ".py",
   "mimetype": "text/x-python",
   "name": "python",
   "nbconvert_exporter": "python",
   "pygments_lexer": "ipython3",
   "version": "3.6.1"
  }
 },
 "nbformat": 4,
 "nbformat_minor": 2
}
